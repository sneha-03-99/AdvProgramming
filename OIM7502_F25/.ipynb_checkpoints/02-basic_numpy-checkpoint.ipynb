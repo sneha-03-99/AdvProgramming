{
 "cells": [
  {
   "cell_type": "markdown",
   "id": "82d4a65b",
   "metadata": {},
   "source": [
    "## Basic NumPy Functionality"
   ]
  },
  {
   "cell_type": "markdown",
   "id": "d5841649",
   "metadata": {},
   "source": [
    "### NumPy n-dim array\n",
    "* Part of a Data \"ecosystem\" which includes data science libaries, machine learning and image processing\n",
    "* NumPy is huge and very powerful --> we will just hit the highlights\n",
    "* optimized array, superior to lists\n",
    "* can be \"any\" number of dimensions, typically 1 or 2 dims though\n",
    "* restricted to a single data type\n",
    "* required to \"dimension\" your arrays when you initialize them "
   ]
  },
  {
   "cell_type": "code",
   "execution_count": 52,
   "id": "e00a4c30",
   "metadata": {},
   "outputs": [],
   "source": [
    "import numpy as np\n",
    "import numpy.random as npr"
   ]
  },
  {
   "cell_type": "code",
   "execution_count": 11,
   "id": "f5e76bd4",
   "metadata": {},
   "outputs": [
    {
     "data": {
      "text/plain": [
       "[1, 2, 3]"
      ]
     },
     "execution_count": 11,
     "metadata": {},
     "output_type": "execute_result"
    }
   ],
   "source": [
    "l = [1, 2, 3] \n",
    "a = np.array(l)\n",
    "l"
   ]
  },
  {
   "cell_type": "code",
   "execution_count": 12,
   "id": "8dead382",
   "metadata": {},
   "outputs": [
    {
     "data": {
      "text/plain": [
       "[1, 2, 3]"
      ]
     },
     "execution_count": 12,
     "metadata": {},
     "output_type": "execute_result"
    }
   ],
   "source": [
    "l"
   ]
  },
  {
   "cell_type": "code",
   "execution_count": 13,
   "id": "44e967bd",
   "metadata": {},
   "outputs": [
    {
     "data": {
      "text/plain": [
       "array([1, 2, 3])"
      ]
     },
     "execution_count": 13,
     "metadata": {},
     "output_type": "execute_result"
    }
   ],
   "source": [
    "a"
   ]
  },
  {
   "cell_type": "code",
   "execution_count": 14,
   "id": "2f5f2175",
   "metadata": {},
   "outputs": [
    {
     "data": {
      "text/plain": [
       "[5, 10, 15]"
      ]
     },
     "execution_count": 14,
     "metadata": {},
     "output_type": "execute_result"
    }
   ],
   "source": [
    "[x*5 for x in l]"
   ]
  },
  {
   "cell_type": "code",
   "execution_count": 15,
   "id": "406b8b75",
   "metadata": {},
   "outputs": [
    {
     "data": {
      "text/plain": [
       "array([ 5, 10, 15])"
      ]
     },
     "execution_count": 15,
     "metadata": {},
     "output_type": "execute_result"
    }
   ],
   "source": [
    "a*5"
   ]
  },
  {
   "cell_type": "code",
   "execution_count": 16,
   "id": "c7929c3e",
   "metadata": {},
   "outputs": [
    {
     "data": {
      "text/plain": [
       "array([2, 4, 6])"
      ]
     },
     "execution_count": 16,
     "metadata": {},
     "output_type": "execute_result"
    }
   ],
   "source": [
    "a+a"
   ]
  },
  {
   "cell_type": "markdown",
   "id": "8f923313",
   "metadata": {},
   "source": [
    "### Performance"
   ]
  },
  {
   "cell_type": "code",
   "execution_count": 17,
   "id": "d4955753",
   "metadata": {},
   "outputs": [
    {
     "data": {
      "text/plain": [
       "[1, 2, 3, 1, 2, 3]"
      ]
     },
     "execution_count": 17,
     "metadata": {},
     "output_type": "execute_result"
    }
   ],
   "source": [
    "l+l"
   ]
  },
  {
   "cell_type": "code",
   "execution_count": 22,
   "id": "510ad96a",
   "metadata": {},
   "outputs": [],
   "source": [
    "big_arr= np.arange(4.5e6)\n",
    "big_list= big_arr.tolist() "
   ]
  },
  {
   "cell_type": "code",
   "execution_count": 18,
   "id": "73350ea6-1329-4a00-b9c2-0a98088b8f4a",
   "metadata": {},
   "outputs": [
    {
     "data": {
      "text/plain": [
       "4500000"
      ]
     },
     "execution_count": 18,
     "metadata": {},
     "output_type": "execute_result"
    }
   ],
   "source": [
    "4_500_000"
   ]
  },
  {
   "cell_type": "code",
   "execution_count": 23,
   "id": "a820ae3b",
   "metadata": {},
   "outputs": [
    {
     "name": "stdout",
     "output_type": "stream",
     "text": [
      "295 ms ± 3.99 ms per loop (mean ± std. dev. of 7 runs, 5 loops each)\n"
     ]
    }
   ],
   "source": [
    "%timeit -n5 square = [x**2 for x in big_list]"
   ]
  },
  {
   "cell_type": "code",
   "execution_count": 24,
   "id": "117f3b2a",
   "metadata": {},
   "outputs": [
    {
     "name": "stdout",
     "output_type": "stream",
     "text": [
      "4.81 ms ± 1.14 ms per loop (mean ± std. dev. of 7 runs, 5 loops each)\n"
     ]
    }
   ],
   "source": [
    "%timeit -n5 square = big_arr**2"
   ]
  },
  {
   "cell_type": "markdown",
   "id": "5ed5818d",
   "metadata": {},
   "source": [
    "### Determining dimensions\n",
    "* size = \"rows\" * \"columns\"\n",
    "* itemsize --> number of bytes used by a single value\n",
    "* itemsize * size = bytes of memory the array uses\n",
    "* shape --> comma separated tuple of length of each dimension\n",
    "* ndim --> int value of dimensions present\n",
    "* reshape --> dimension manipulation"
   ]
  },
  {
   "cell_type": "code",
   "execution_count": 26,
   "id": "646a24a3",
   "metadata": {},
   "outputs": [
    {
     "data": {
      "text/plain": [
       "array([ 0,  1,  2,  3,  4,  5,  6,  7,  8,  9, 10, 11, 12, 13, 14])"
      ]
     },
     "execution_count": 26,
     "metadata": {},
     "output_type": "execute_result"
    }
   ],
   "source": [
    "dda=np.arange(15)\n",
    "dda"
   ]
  },
  {
   "cell_type": "code",
   "execution_count": 28,
   "id": "55826f28",
   "metadata": {},
   "outputs": [
    {
     "data": {
      "text/plain": [
       "15"
      ]
     },
     "execution_count": 28,
     "metadata": {},
     "output_type": "execute_result"
    }
   ],
   "source": [
    "dda.size"
   ]
  },
  {
   "cell_type": "code",
   "execution_count": 29,
   "id": "f9cd89ae",
   "metadata": {},
   "outputs": [
    {
     "data": {
      "text/plain": [
       "8"
      ]
     },
     "execution_count": 29,
     "metadata": {},
     "output_type": "execute_result"
    }
   ],
   "source": [
    "dda.itemsize \n",
    "#space the item is using "
   ]
  },
  {
   "cell_type": "code",
   "execution_count": 30,
   "id": "8b3a6ee2",
   "metadata": {},
   "outputs": [
    {
     "data": {
      "text/plain": [
       "(15,)"
      ]
     },
     "execution_count": 30,
     "metadata": {},
     "output_type": "execute_result"
    }
   ],
   "source": [
    "dda.shape"
   ]
  },
  {
   "cell_type": "code",
   "execution_count": 31,
   "id": "d61327f6",
   "metadata": {},
   "outputs": [
    {
     "data": {
      "text/plain": [
       "array([[ 0,  1,  2,  3,  4],\n",
       "       [ 5,  6,  7,  8,  9],\n",
       "       [10, 11, 12, 13, 14]])"
      ]
     },
     "execution_count": 31,
     "metadata": {},
     "output_type": "execute_result"
    }
   ],
   "source": [
    "dda.reshape(3,5)"
   ]
  },
  {
   "cell_type": "code",
   "execution_count": 34,
   "id": "1a776856",
   "metadata": {},
   "outputs": [
    {
     "data": {
      "text/plain": [
       "array([ 0,  1,  2,  3,  4,  5,  6,  7,  8,  9, 10, 11, 12, 13, 14])"
      ]
     },
     "execution_count": 34,
     "metadata": {},
     "output_type": "execute_result"
    }
   ],
   "source": [
    "dda.reshape(15,)\n",
    "#another way dda.reshape(-1)"
   ]
  },
  {
   "cell_type": "code",
   "execution_count": null,
   "id": "b7956d73",
   "metadata": {},
   "outputs": [],
   "source": []
  },
  {
   "cell_type": "code",
   "execution_count": null,
   "id": "3c3b0117",
   "metadata": {},
   "outputs": [],
   "source": []
  },
  {
   "cell_type": "code",
   "execution_count": null,
   "id": "16a6149a",
   "metadata": {},
   "outputs": [],
   "source": []
  },
  {
   "cell_type": "code",
   "execution_count": null,
   "id": "5eb370f4",
   "metadata": {},
   "outputs": [],
   "source": []
  },
  {
   "cell_type": "code",
   "execution_count": null,
   "id": "a6a54dc4",
   "metadata": {},
   "outputs": [],
   "source": []
  },
  {
   "cell_type": "code",
   "execution_count": null,
   "id": "5846dd0f",
   "metadata": {},
   "outputs": [],
   "source": []
  },
  {
   "cell_type": "code",
   "execution_count": null,
   "id": "a1cda42e",
   "metadata": {},
   "outputs": [],
   "source": []
  },
  {
   "cell_type": "markdown",
   "id": "1ef24555",
   "metadata": {},
   "source": [
    "### \"Slicing\""
   ]
  },
  {
   "cell_type": "code",
   "execution_count": 37,
   "id": "c3c79807",
   "metadata": {},
   "outputs": [
    {
     "data": {
      "text/plain": [
       "array([ 0,  1,  2,  3,  4,  5,  6,  7,  8,  9, 10, 11, 12, 13, 14])"
      ]
     },
     "execution_count": 37,
     "metadata": {},
     "output_type": "execute_result"
    }
   ],
   "source": [
    "dda[0:]"
   ]
  },
  {
   "cell_type": "code",
   "execution_count": null,
   "id": "fb28109e",
   "metadata": {},
   "outputs": [],
   "source": []
  },
  {
   "cell_type": "code",
   "execution_count": null,
   "id": "793553d5",
   "metadata": {},
   "outputs": [],
   "source": []
  },
  {
   "cell_type": "markdown",
   "id": "4a031caf",
   "metadata": {},
   "source": [
    "### Special arrays\n",
    "* useful for dimensioning an array before you aknow what values it will hold"
   ]
  },
  {
   "cell_type": "code",
   "execution_count": 38,
   "id": "65ad950d",
   "metadata": {},
   "outputs": [
    {
     "data": {
      "text/plain": [
       "array([[1., 1., 1., 1., 1., 1.],\n",
       "       [1., 1., 1., 1., 1., 1.],\n",
       "       [1., 1., 1., 1., 1., 1.],\n",
       "       [1., 1., 1., 1., 1., 1.],\n",
       "       [1., 1., 1., 1., 1., 1.],\n",
       "       [1., 1., 1., 1., 1., 1.]])"
      ]
     },
     "execution_count": 38,
     "metadata": {},
     "output_type": "execute_result"
    }
   ],
   "source": [
    "np.ones((6,6))"
   ]
  },
  {
   "cell_type": "code",
   "execution_count": 39,
   "id": "5a461790",
   "metadata": {},
   "outputs": [
    {
     "data": {
      "text/plain": [
       "array([0., 0., 0., 0., 0., 0.])"
      ]
     },
     "execution_count": 39,
     "metadata": {},
     "output_type": "execute_result"
    }
   ],
   "source": [
    "np.zeros(6)"
   ]
  },
  {
   "cell_type": "code",
   "execution_count": 41,
   "id": "b29ec0c4",
   "metadata": {},
   "outputs": [
    {
     "data": {
      "text/plain": [
       "array([[1., 0., 0.],\n",
       "       [0., 1., 0.],\n",
       "       [0., 0., 1.]])"
      ]
     },
     "execution_count": 41,
     "metadata": {},
     "output_type": "execute_result"
    }
   ],
   "source": [
    "np.eye(3,3)"
   ]
  },
  {
   "cell_type": "code",
   "execution_count": 40,
   "id": "3e417d85",
   "metadata": {},
   "outputs": [
    {
     "data": {
      "text/plain": [
       "array([0., 0., 0.])"
      ]
     },
     "execution_count": 40,
     "metadata": {},
     "output_type": "execute_result"
    }
   ],
   "source": [
    "np.empty(3)\n",
    "#gives smth close to zero"
   ]
  },
  {
   "cell_type": "markdown",
   "id": "a449962f",
   "metadata": {},
   "source": [
    "### Working with random numbers\n",
    "* many different distribution options\n",
    "* normal and uniform most common\n",
    "* normal, standard_normal\n",
    "* randn, randint"
   ]
  },
  {
   "cell_type": "markdown",
   "id": "2e026a2e",
   "metadata": {},
   "source": [
    "### Standard normal\n",
    "* mean 0\n",
    "* std 1\n",
    "* takes a single optional argument --> n\n",
    "* `np.random.standard_normal([size])`"
   ]
  },
  {
   "cell_type": "code",
   "execution_count": 47,
   "id": "ab595ac3",
   "metadata": {},
   "outputs": [
    {
     "data": {
      "text/plain": [
       "array([-1.71124677, -0.68394341,  0.59989698,  0.481366  ,  0.73809773,\n",
       "        0.80670263, -0.66002667,  0.32462231, -1.07456564, -0.29046536])"
      ]
     },
     "execution_count": 47,
     "metadata": {},
     "output_type": "execute_result"
    }
   ],
   "source": [
    "np.random.standard_normal([10])"
   ]
  },
  {
   "cell_type": "code",
   "execution_count": 53,
   "id": "c50794d9",
   "metadata": {},
   "outputs": [
    {
     "data": {
      "text/plain": [
       "array([ 1.93584096, -0.41748412, -1.81873151, -0.08627307, -2.1939024 ,\n",
       "        1.13802304,  0.37160721,  1.28505547, -0.74884888,  0.65522741])"
      ]
     },
     "execution_count": 53,
     "metadata": {},
     "output_type": "execute_result"
    }
   ],
   "source": [
    "npr.standard_normal([10])"
   ]
  },
  {
   "cell_type": "markdown",
   "id": "212e10f8",
   "metadata": {},
   "source": [
    "### Uniform Distributions\n",
    "* `np.random.randn(size=None)`\n",
    "* `np.random.randint(low, high=None, size=None, dtype=int)`\n",
    "    * excludes high --> called a half-open interval"
   ]
  },
  {
   "cell_type": "code",
   "execution_count": 54,
   "id": "1692699f",
   "metadata": {},
   "outputs": [
    {
     "data": {
      "text/plain": [
       "4"
      ]
     },
     "execution_count": 54,
     "metadata": {},
     "output_type": "execute_result"
    }
   ],
   "source": [
    "npr.randint(1,5)"
   ]
  },
  {
   "cell_type": "code",
   "execution_count": null,
   "id": "823394ab",
   "metadata": {},
   "outputs": [],
   "source": []
  },
  {
   "cell_type": "code",
   "execution_count": null,
   "id": "f8218c0a",
   "metadata": {},
   "outputs": [],
   "source": []
  },
  {
   "cell_type": "code",
   "execution_count": 4,
   "id": "69a93de0",
   "metadata": {},
   "outputs": [],
   "source": [
    "# notice we never get to 6...\n"
   ]
  },
  {
   "cell_type": "code",
   "execution_count": null,
   "id": "09581032",
   "metadata": {},
   "outputs": [],
   "source": []
  },
  {
   "cell_type": "markdown",
   "id": "b834ed8a",
   "metadata": {},
   "source": [
    "### Normal\n",
    "* loc = mean\n",
    "* scale = std\n",
    "* if not specified mean = 0, std = 1"
   ]
  },
  {
   "cell_type": "code",
   "execution_count": 56,
   "id": "0f630557",
   "metadata": {},
   "outputs": [],
   "source": [
    "x=npr.normal(loc=100, scale=10, size=1000)"
   ]
  },
  {
   "cell_type": "code",
   "execution_count": null,
   "id": "1a3010a8",
   "metadata": {},
   "outputs": [],
   "source": []
  },
  {
   "cell_type": "code",
   "execution_count": 57,
   "id": "6088426d",
   "metadata": {},
   "outputs": [
    {
     "name": "stdout",
     "output_type": "stream",
     "text": [
      "99.81975614754877\n",
      "9.992668703415113\n",
      "134.04861223406266\n",
      "65.7234766895583\n"
     ]
    }
   ],
   "source": [
    "print(x.mean())\n",
    "print(x.std())\n",
    "print(x.max())\n",
    "print(x.min())\n",
    "# there is no median method"
   ]
  },
  {
   "cell_type": "code",
   "execution_count": 58,
   "id": "1bb5ac5d",
   "metadata": {},
   "outputs": [
    {
     "data": {
      "text/plain": [
       "array([ 83.35241308,  87.14688103,  93.06735838,  99.90247731,\n",
       "       106.60322166, 112.38836756, 116.07688009])"
      ]
     },
     "execution_count": 58,
     "metadata": {},
     "output_type": "execute_result"
    }
   ],
   "source": [
    "percentiles = [5,10,25,50,75,90,95]\n",
    "np.percentile(x,percentiles)"
   ]
  },
  {
   "cell_type": "markdown",
   "id": "82aceac8",
   "metadata": {},
   "source": [
    "### Simple Linear Modeling"
   ]
  },
  {
   "cell_type": "code",
   "execution_count": null,
   "id": "df625293",
   "metadata": {},
   "outputs": [],
   "source": []
  },
  {
   "cell_type": "code",
   "execution_count": null,
   "id": "abbdc52e",
   "metadata": {},
   "outputs": [],
   "source": []
  },
  {
   "cell_type": "code",
   "execution_count": null,
   "id": "7a4964ea",
   "metadata": {},
   "outputs": [],
   "source": []
  },
  {
   "cell_type": "code",
   "execution_count": 59,
   "id": "833219ca",
   "metadata": {},
   "outputs": [
    {
     "data": {
      "text/plain": [
       "0.9617250638432819"
      ]
     },
     "execution_count": 59,
     "metadata": {},
     "output_type": "execute_result"
    }
   ],
   "source": [
    "slope, intercept = np.polyfit(x,y, deg=1)\n",
    "slope"
   ]
  },
  {
   "cell_type": "markdown",
   "id": "a5b13c1e",
   "metadata": {},
   "source": [
    "### More syntactically intense method to do the same thing\n",
    "* Requires a \"dummy\" variable next to actual x variable\n",
    "* The rcond allows for special handling of extremely small values "
   ]
  },
  {
   "cell_type": "code",
   "execution_count": 59,
   "id": "254e2bba",
   "metadata": {},
   "outputs": [],
   "source": [
    "x=npr.normal(size=50)\n",
    "y=x+npr.normal(loc=10,size=50)"
   ]
  },
  {
   "cell_type": "code",
   "execution_count": 60,
   "id": "a6b2b57c",
   "metadata": {},
   "outputs": [
    {
     "data": {
      "text/plain": [
       "array([[1.        , 0.71867852],\n",
       "       [0.71867852, 1.        ]])"
      ]
     },
     "execution_count": 60,
     "metadata": {},
     "output_type": "execute_result"
    }
   ],
   "source": [
    "np.corrcoef(x,y)"
   ]
  },
  {
   "cell_type": "code",
   "execution_count": 61,
   "id": "3c438eda",
   "metadata": {},
   "outputs": [
    {
     "data": {
      "text/plain": [
       "array([ 1.0508583 , 10.04222492])"
      ]
     },
     "execution_count": 61,
     "metadata": {},
     "output_type": "execute_result"
    }
   ],
   "source": [
    "np.polyfit(x,y, deg=1)"
   ]
  },
  {
   "cell_type": "markdown",
   "id": "bc96861f",
   "metadata": {},
   "source": [
    "### Fill array with uniformly spaced data points between a minimum and maximum"
   ]
  },
  {
   "cell_type": "code",
   "execution_count": null,
   "id": "c0289a00",
   "metadata": {},
   "outputs": [],
   "source": []
  },
  {
   "cell_type": "code",
   "execution_count": null,
   "id": "03355598",
   "metadata": {},
   "outputs": [],
   "source": []
  }
 ],
 "metadata": {
  "kernelspec": {
   "display_name": "Python [conda env:base] *",
   "language": "python",
   "name": "conda-base-py"
  },
  "language_info": {
   "codemirror_mode": {
    "name": "ipython",
    "version": 3
   },
   "file_extension": ".py",
   "mimetype": "text/x-python",
   "name": "python",
   "nbconvert_exporter": "python",
   "pygments_lexer": "ipython3",
   "version": "3.13.5"
  }
 },
 "nbformat": 4,
 "nbformat_minor": 5
}
