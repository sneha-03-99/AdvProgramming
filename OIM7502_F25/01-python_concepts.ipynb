{
 "cells": [
  {
   "cell_type": "markdown",
   "id": "9383bafa",
   "metadata": {},
   "source": [
    "### Python Programming Concepts"
   ]
  },
  {
   "cell_type": "markdown",
   "id": "17df7d6e",
   "metadata": {},
   "source": [
    "#### 1. Create a variable to store the value 500 for sales"
   ]
  },
  {
   "cell_type": "code",
   "execution_count": 21,
   "id": "a5f43c2f",
   "metadata": {},
   "outputs": [
    {
     "data": {
      "text/plain": [
       "500"
      ]
     },
     "execution_count": 21,
     "metadata": {},
     "output_type": "execute_result"
    }
   ],
   "source": [
    "x=500\n",
    "x"
   ]
  },
  {
   "cell_type": "markdown",
   "id": "6dc8b9ea",
   "metadata": {},
   "source": [
    "#### 2. Create a variable to store several values:  \n",
    "* sales: 500, 475, 625\n",
    "* integers 1 - 9 "
   ]
  },
  {
   "cell_type": "code",
   "execution_count": 22,
   "id": "902fe3bd",
   "metadata": {},
   "outputs": [
    {
     "name": "stdout",
     "output_type": "stream",
     "text": [
      "[500, 475, 625]\n",
      "[1, 2, 3, 4, 5, 6, 7, 8, 9]\n"
     ]
    }
   ],
   "source": [
    "y=[500,475,625]\n",
    "print(y)\n",
    "z=list(range(1,10))\n",
    "print(z)"
   ]
  },
  {
   "cell_type": "code",
   "execution_count": null,
   "id": "bbc89976-1dc6-4515-8b0e-0e305b948f87",
   "metadata": {},
   "outputs": [],
   "source": [
    "\n"
   ]
  },
  {
   "cell_type": "markdown",
   "id": "62e55953",
   "metadata": {},
   "source": [
    "#### 3. Create a variable to store the names and email addresses for a number of customers\n",
    "* John, john@some.com; Ann, ann@some.com"
   ]
  },
  {
   "cell_type": "code",
   "execution_count": 26,
   "id": "03f2b161",
   "metadata": {},
   "outputs": [
    {
     "data": {
      "text/plain": [
       "'ann@some.com'"
      ]
     },
     "execution_count": 26,
     "metadata": {},
     "output_type": "execute_result"
    }
   ],
   "source": [
    "customers= [\n",
    "    {'name':'john','email':'john@some.com'},\n",
    "    {'name':'ann','email':'ann@some.com'}\n",
    "]\n",
    "customers[1]['email']\n",
    "#dictionary list"
   ]
  },
  {
   "cell_type": "markdown",
   "id": "d6b1e8c6",
   "metadata": {},
   "source": [
    "#### 4. Use Python to generate a random value based on each of following:\n",
    "1. between 0 and 1\n",
    "2. the standard normal distribution (rounded to two decimal places)\n",
    "3. a value between 1 and 10\n",
    "4. either H or T"
   ]
  },
  {
   "cell_type": "code",
   "execution_count": 37,
   "id": "f004d7b5",
   "metadata": {},
   "outputs": [
    {
     "name": "stdout",
     "output_type": "stream",
     "text": [
      "1 7 T\n"
     ]
    }
   ],
   "source": [
    "import random\n",
    "a=random.randint(0,1)\n",
    "b=random.randint(1,11)\n",
    "\n",
    "d=random.choice(['H','T'])\n",
    "print(a,b,d)\n",
    "                \n"
   ]
  },
  {
   "cell_type": "code",
   "execution_count": null,
   "id": "a8efc6fc",
   "metadata": {},
   "outputs": [],
   "source": []
  },
  {
   "cell_type": "code",
   "execution_count": null,
   "id": "f20b6134-2d52-4465-a867-e7b69e9a9d94",
   "metadata": {},
   "outputs": [],
   "source": []
  },
  {
   "cell_type": "code",
   "execution_count": null,
   "id": "3a150c3e",
   "metadata": {},
   "outputs": [],
   "source": []
  },
  {
   "cell_type": "code",
   "execution_count": null,
   "id": "f80f4b3b",
   "metadata": {},
   "outputs": [],
   "source": []
  },
  {
   "cell_type": "code",
   "execution_count": null,
   "id": "bdb52b86",
   "metadata": {},
   "outputs": [],
   "source": []
  },
  {
   "cell_type": "markdown",
   "id": "7eddf06a",
   "metadata": {},
   "source": [
    "#### 5. Use Python to determine your current working directory"
   ]
  },
  {
   "cell_type": "code",
   "execution_count": 38,
   "id": "d8f79474",
   "metadata": {},
   "outputs": [
    {
     "name": "stdout",
     "output_type": "stream",
     "text": [
      "/Users/sneha03/Documents/MBA/Babson/Adv/OIM7502_F25\n"
     ]
    }
   ],
   "source": [
    "import os\n",
    "\n",
    "cwd = os.getcwd()\n",
    "\n",
    "print(cwd)\n"
   ]
  },
  {
   "cell_type": "markdown",
   "id": "fc43ec50",
   "metadata": {},
   "source": [
    "#### 6. Use Python to determine how many days until New Year's Day"
   ]
  },
  {
   "cell_type": "code",
   "execution_count": 2,
   "id": "13f630fe",
   "metadata": {},
   "outputs": [
    {
     "name": "stdin",
     "output_type": "stream",
     "text": [
      "Enter the current year (YYYY):  2025\n",
      "Enter the current month (MM):  09\n",
      "Enter the current day (DD):  15\n"
     ]
    },
    {
     "name": "stdout",
     "output_type": "stream",
     "text": [
      "There are 108 days left until New Year's Day!\n"
     ]
    }
   ],
   "source": [
    "from datetime import date\n",
    "\n",
    "#today = date.today()\n",
    "year = int(input(\"Enter the current year (YYYY): \"))\n",
    "month = int(input(\"Enter the current month (MM): \"))\n",
    "day = int(input(\"Enter the current day (DD): \"))\n",
    "\n",
    "new_year = date(today.year + 1, 1, 1)\n",
    "\n",
    "days_remaining = (new_year - today).days\n",
    "\n",
    "print(f\"There are {days_remaining} days left until New Year's Day!\")"
   ]
  },
  {
   "cell_type": "markdown",
   "id": "2ba4ea92",
   "metadata": {},
   "source": [
    "#### 7. Write a short program that displays the future value of 1,000 earning 5%  at the end of each year for the next 5 years"
   ]
  },
  {
   "cell_type": "code",
   "execution_count": 24,
   "id": "6fef4a8c",
   "metadata": {},
   "outputs": [
    {
     "name": "stdout",
     "output_type": "stream",
     "text": [
      "1276.2815624999998\n"
     ]
    }
   ],
   "source": [
    "P=1000\n",
    "Rate=5\n",
    "Time=5\n",
    "for i in range(0,Time):\n",
    "    P=P+(P*(Rate/100))\n",
    "print(P)"
   ]
  },
  {
   "cell_type": "markdown",
   "id": "150201c8",
   "metadata": {},
   "source": [
    "#### 8. Write a short program that prompts a user to enter a stock symbol and press enter. Add each symbol entered to a variable. The program should run until the user presses the enter key without entering anything (empty string) "
   ]
  },
  {
   "cell_type": "code",
   "execution_count": 13,
   "id": "931a346f",
   "metadata": {},
   "outputs": [
    {
     "name": "stdin",
     "output_type": "stream",
     "text": [
      "enter a stock symbol d\n",
      "enter a stock symbol f\n",
      "enter a stock symbol \n"
     ]
    },
    {
     "name": "stdout",
     "output_type": "stream",
     "text": [
      "['d', 'f']\n"
     ]
    }
   ],
   "source": [
    "import itertools\n",
    "p=[]\n",
    "for i in itertools.count():\n",
    "    x=input(\"enter a stock symbol\")\n",
    "    p.append(x)\n",
    "    if(p[i]==''):\n",
    "        break\n",
    "\n",
    "print(p[0:-1])"
   ]
  },
  {
   "cell_type": "markdown",
   "id": "fc2a7592",
   "metadata": {},
   "source": [
    "#### 9. Write the code necessary to calculate the sum of the square differences of a group of values : \n",
    "58, 32, 37, 41, 36, 36, 54, 37, 25, 53\n",
    "##### $\\Sigma $(${x}$ - $\\bar{x}$)$^2$"
   ]
  },
  {
   "cell_type": "code",
   "execution_count": 26,
   "id": "13d9a6c5",
   "metadata": {},
   "outputs": [
    {
     "name": "stdout",
     "output_type": "stream",
     "text": [
      "40.9\n",
      "292.41\n",
      "79.20999999999998\n",
      "15.209999999999988\n",
      "0.010000000000000285\n",
      "24.009999999999987\n",
      "24.009999999999987\n",
      "171.61000000000004\n",
      "15.209999999999988\n",
      "252.80999999999995\n",
      "146.41000000000003\n",
      "1020.9000000000001\n"
     ]
    }
   ],
   "source": [
    "p=[58, 32, 37, 41, 36, 36, 54, 37, 25, 53]\n",
    "z=sum(p)\n",
    "y=z/len(p)\n",
    "print(y)\n",
    "s=0\n",
    "for i in range(0,len(p)):\n",
    "    x=(y-p[i])**2\n",
    "    print(x)\n",
    "    s=s+x\n",
    "print(s)"
   ]
  },
  {
   "cell_type": "markdown",
   "id": "6d6f2e64",
   "metadata": {},
   "source": [
    "#### 10. Opening, reading and writing files"
   ]
  },
  {
   "cell_type": "code",
   "execution_count": null,
   "id": "f7fa569d",
   "metadata": {},
   "outputs": [],
   "source": []
  },
  {
   "cell_type": "markdown",
   "id": "eec548d6",
   "metadata": {},
   "source": [
    "#### 11. Create a function the will simulate rolling two die and return the value of each and and the sum "
   ]
  },
  {
   "cell_type": "code",
   "execution_count": 11,
   "id": "bb115cdc",
   "metadata": {},
   "outputs": [
    {
     "name": "stdout",
     "output_type": "stream",
     "text": [
      "[5, 1, 6]\n"
     ]
    }
   ],
   "source": [
    "import random\n",
    "a=list(range(1,7))\n",
    "b=list(range(1,7))\n",
    "def my_func(list1,list2):\n",
    "    c=random.choice(list1)\n",
    "    d=random.choice(list2)\n",
    "    e=c+d\n",
    "    f=[c,d,e]\n",
    "    return f\n",
    "print(my_func(a,b))\n",
    "\n"
   ]
  },
  {
   "cell_type": "markdown",
   "id": "21556d7f",
   "metadata": {},
   "source": [
    "#### 12. Write the code needed to evaluate whether a value in a group of values is negative or postive and prints an approriate message, i.e. postive, negative \n",
    "-1.59, 2.36, 1.69, 1.13, -0.91, 1.48, -0.34, 1.31, -0.74, 0.2"
   ]
  },
  {
   "cell_type": "code",
   "execution_count": 20,
   "id": "d6c38ecb",
   "metadata": {},
   "outputs": [
    {
     "name": "stdout",
     "output_type": "stream",
     "text": [
      "-1.59 -negative\n",
      "2.36 -positive\n",
      "1.69 -positive\n",
      "1.13 -positive\n",
      "-0.91 -negative\n",
      "1.48 -positive\n",
      "-0.34 -negative\n",
      "1.31 -positive\n",
      "-0.74 -negative\n",
      "0.2 -positive\n"
     ]
    }
   ],
   "source": [
    "z=[-1.59, 2.36, 1.69, 1.13, -0.91, 1.48, -0.34, 1.31, -0.74, 0.2]\n",
    "for i in range(0,len(z)):\n",
    "    if z[i]<0:\n",
    "        print(z[i],\"-negative\")\n",
    "    else:\n",
    "        print(z[i],\"-positive\")\n",
    "\n"
   ]
  },
  {
   "cell_type": "code",
   "execution_count": null,
   "id": "aaefba17",
   "metadata": {},
   "outputs": [],
   "source": []
  },
  {
   "cell_type": "markdown",
   "id": "8cafe65c",
   "metadata": {},
   "source": [
    "#### 14.  Complete the following:\n",
    "1. Write a program that generates 500 random integers from 1 to n, for example, the first integer will be 1 the second will be 1 or 2, the fifth between 1 and 5, and so on.\n",
    "2. The program should write each integer to a file \n",
    "3. Once all integers are written close the file\n",
    "\n",
    "##### Part 2\n",
    "1. Open and read the file into a list\n",
    "2. Create a line plot of the data"
   ]
  },
  {
   "cell_type": "code",
   "execution_count": 1,
   "id": "60a910bb",
   "metadata": {},
   "outputs": [
    {
     "name": "stderr",
     "output_type": "stream",
     "text": [
      "Matplotlib is building the font cache; this may take a moment.\n"
     ]
    },
    {
     "name": "stdout",
     "output_type": "stream",
     "text": [
      "[1, 1, 2, 1, 3, 3, 6, 1, 2, 6, 4, 12, 3, 4, 13, 1, 9, 17, 8, 14, 16, 2, 18, 21, 16, 10, 6, 28, 10, 11, 16, 22, 30, 7, 7, 28, 34, 12, 5, 4, 13, 12, 28, 43, 17, 25, 39, 9, 46, 12, 11, 18, 49, 1, 40, 56, 5, 9, 44, 10, 22, 49, 51, 10, 13, 1, 6, 18, 61, 47, 31, 44, 62, 21, 16, 17, 65, 15, 21, 39, 21, 54, 59, 15, 37, 35, 46, 46, 84, 79, 7, 39, 32, 17, 68, 1, 70, 76, 70, 99, 50, 87, 9, 71, 2, 74, 17, 3, 22, 23, 10, 35, 78, 63, 2, 87, 27, 91, 87, 86, 73, 22, 79, 119, 60, 114, 31, 115, 25, 64, 28, 11, 57, 36, 48, 75, 52, 27, 60, 118, 3, 97, 69, 8, 18, 19, 124, 36, 148, 35, 31, 18, 33, 49, 34, 1, 145, 41, 155, 10, 48, 35, 68, 19, 20, 43, 2, 148, 9, 50, 144, 7, 2, 104, 63, 20, 10, 64, 62, 107, 34, 21, 114, 95, 83, 155, 172, 135, 147, 86, 112, 178, 81, 133, 52, 118, 101, 104, 158, 51, 59, 95, 142, 176, 176, 98, 43, 183, 26, 165, 1, 95, 194, 175, 6, 162, 33, 118, 25, 100, 129, 106, 35, 219, 3, 213, 79, 127, 15, 197, 218, 80, 129, 63, 107, 74, 216, 54, 84, 231, 22, 25, 230, 215, 230, 84, 169, 48, 238, 210, 114, 188, 129, 151, 226, 224, 46, 85, 62, 194, 120, 24, 61, 9, 226, 172, 140, 206, 64, 252, 53, 122, 262, 175, 251, 18, 154, 150, 76, 247, 204, 156, 228, 199, 144, 233, 151, 271, 72, 108, 142, 205, 121, 232, 82, 79, 235, 182, 162, 69, 57, 174, 156, 72, 89, 123, 62, 93, 285, 183, 139, 37, 195, 3, 172, 137, 306, 1, 153, 107, 18, 56, 45, 173, 86, 147, 173, 302, 223, 230, 272, 106, 298, 30, 238, 216, 264, 44, 11, 258, 143, 141, 189, 34, 145, 244, 154, 166, 78, 193, 33, 90, 162, 312, 334, 59, 53, 125, 149, 139, 230, 176, 289, 190, 340, 84, 191, 275, 362, 322, 333, 261, 323, 315, 178, 164, 332, 141, 362, 216, 304, 369, 349, 265, 320, 276, 158, 248, 213, 190, 125, 275, 140, 290, 149, 150, 392, 370, 389, 132, 247, 186, 79, 359, 282, 6, 219, 11, 15, 336, 103, 383, 384, 397, 254, 224, 95, 129, 321, 257, 187, 334, 199, 42, 260, 232, 384, 31, 249, 279, 218, 200, 283, 10, 405, 2, 434, 21, 140, 114, 36, 47, 236, 442, 291, 53, 33, 293, 197, 412, 90, 306, 334, 91, 366, 455, 30, 2, 163, 207, 311, 226, 333, 224, 111, 102, 310, 255, 128, 159, 423, 445, 338, 130, 375, 23, 465, 169, 269, 145, 125, 188, 422, 112, 32, 34, 409, 423, 251, 213, 401, 50, 419, 427, 197, 480, 192, 89, 111, 129]\n"
     ]
    },
    {
     "data": {
      "image/png": "[encoded data removed]",
      "text/plain": [
       "<Figure size 640x480 with 1 Axes>"
      ]
     },
     "metadata": {},
     "output_type": "display_data"
    }
   ],
   "source": [
    "import random\n",
    "import matplotlib.pyplot as plt\n",
    "\n",
    "file = open(\"randInt.txt\", \"x\")\n",
    "for i in range(1,501):\n",
    "    y = random.randint(1,i)\n",
    "    file.write(str(y)+\"\\n\")\n",
    "\n",
    "file.close()\n",
    "\n",
    "x = []\n",
    "file2 = open(\"randInt.txt\", \"r\")\n",
    "for line in file2:\n",
    "    x.append(int(line))\n",
    "\n",
    "print(x)\n",
    "\n",
    "plt.plot(x)\n",
    "plt.show()"
   ]
  },
  {
   "cell_type": "code",
   "execution_count": 24,
   "id": "d6b4180c",
   "metadata": {},
   "outputs": [],
   "source": []
  },
  {
   "cell_type": "code",
   "execution_count": null,
   "id": "adb6aa11",
   "metadata": {},
   "outputs": [],
   "source": []
  },
  {
   "cell_type": "code",
   "execution_count": null,
   "id": "6745da79",
   "metadata": {},
   "outputs": [],
   "source": []
  },
  {
   "cell_type": "code",
   "execution_count": null,
   "id": "21140445",
   "metadata": {},
   "outputs": [],
   "source": []
  },
  {
   "cell_type": "code",
   "execution_count": null,
   "id": "3d546600",
   "metadata": {},
   "outputs": [],
   "source": []
  }
 ],
 "metadata": {
  "kernelspec": {
   "display_name": "Python [conda env:base] *",
   "language": "python",
   "name": "conda-base-py"
  },
  "language_info": {
   "codemirror_mode": {
    "name": "ipython",
    "version": 3
   },
   "file_extension": ".py",
   "mimetype": "text/x-python",
   "name": "python",
   "nbconvert_exporter": "python",
   "pygments_lexer": "ipython3",
   "version": "3.13.5"
  }
 },
 "nbformat": 4,
 "nbformat_minor": 5
}
